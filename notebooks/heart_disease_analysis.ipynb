{
 "cells": [
  {
   "cell_type": "code",
   "execution_count": null,
   "id": "53a669f2",
   "metadata": {
    "vscode": {
     "languageId": "plaintext"
    }
   },
   "outputs": [],
   "source": [
    "from src.preprocess import load_and_preprocess\n",
    "from src.decision_tree_model import train_decision_tree, optimize_decision_tree\n",
    "from src.mlp_model import train_mlp, compare_speed\n",
    "from src.pca_analysis import apply_pca\n",
    "from src.kmeans_clustering import elbow_method\n",
    "\n",
    "X_train, X_test, y_train, y_test, feature_names = load_and_preprocess()\n",
    "\n",
    "# Decision Tree baseline + tuning\n",
    "_, dt_acc, _ = train_decision_tree(X_train, y_train, X_test, y_test, feature_names)\n",
    "_, best_acc, _, best_params = optimize_decision_tree(X_train, y_train, X_test, y_test)\n",
    "print(\"Best Params:\", best_params)\n",
    "\n",
    "# MLP\n",
    "_, mlp_acc, _ = train_mlp(X_train, y_train, X_test, y_test)\n",
    "compare_speed(X_train, y_train, X_test, y_test)\n",
    "\n",
    "# PCA + Decision Tree\n",
    "X_train_pca, X_test_pca, _ = apply_pca(X_train, X_test)\n",
    "_, _, _ = train_decision_tree(X_train_pca, y_train, X_test_pca, y_test, feature_names=None)\n",
    "\n",
    "# K-Means elbow method\n",
    "elbow_method(X_train)\n",
    "elbow_method(X_train_pca)"
   ]
  }
 ],
 "metadata": {
  "language_info": {
   "name": "python"
  }
 },
 "nbformat": 4,
 "nbformat_minor": 5
}
